{
  "nbformat": 4,
  "nbformat_minor": 0,
  "metadata": {
    "colab": {
      "provenance": [],
      "authorship_tag": "ABX9TyOMPwvnCrrCheD9hL7ZpPVi",
      "include_colab_link": true
    },
    "kernelspec": {
      "name": "python3",
      "display_name": "Python 3"
    },
    "language_info": {
      "name": "python"
    }
  },
  "cells": [
    {
      "cell_type": "markdown",
      "metadata": {
        "id": "view-in-github",
        "colab_type": "text"
      },
      "source": [
        "<a href=\"https://colab.research.google.com/github/VikasBelida09/SP23-Team5/blob/main/Largescale_project.ipynb\" target=\"_parent\"><img src=\"https://colab.research.google.com/assets/colab-badge.svg\" alt=\"Open In Colab\"/></a>"
      ]
    },
    {
      "cell_type": "code",
      "execution_count": 1,
      "metadata": {
        "colab": {
          "base_uri": "https://localhost:8080/"
        },
        "id": "Y028ZSkNLZua",
        "outputId": "fab21ad4-7375-474d-f223-2a0c1915f5e0"
      },
      "outputs": [
        {
          "output_type": "stream",
          "name": "stdout",
          "text": [
            "Mounted at /content/drive\n"
          ]
        }
      ],
      "source": [
        "from google.colab import drive\n",
        "drive.mount('/content/drive')"
      ]
    },
    {
      "cell_type": "code",
      "source": [
        "import pandas as pd\n",
        "import numpy as np\n",
        "import matplotlib.pyplot as plt\n",
        "import seaborn as sns\n",
        "import nltk\n",
        "nltk.download('punkt')\n",
        "import re"
      ],
      "metadata": {
        "colab": {
          "base_uri": "https://localhost:8080/"
        },
        "id": "QaWYz_0MLmWp",
        "outputId": "7fe40640-910a-442f-e78e-070b4d9e9fb0"
      },
      "execution_count": 2,
      "outputs": [
        {
          "output_type": "stream",
          "name": "stderr",
          "text": [
            "[nltk_data] Downloading package punkt to /root/nltk_data...\n",
            "[nltk_data]   Unzipping tokenizers/punkt.zip.\n"
          ]
        }
      ]
    },
    {
      "cell_type": "markdown",
      "source": [
        "<h1>Exploratory Analysis on Evernote Dataset</h1>"
      ],
      "metadata": {
        "id": "EPMmeVEYrjlz"
      }
    },
    {
      "cell_type": "code",
      "source": [
        "evernote_path=\"/content/drive/MyDrive/dataset/Evernote.xlsx\"\n"
      ],
      "metadata": {
        "id": "TxRaT-pmN01k"
      },
      "execution_count": 3,
      "outputs": []
    },
    {
      "cell_type": "code",
      "source": [
        "evernote_df=pd.read_excel(evernote_path)\n"
      ],
      "metadata": {
        "id": "oHAiqhTeN80Y"
      },
      "execution_count": 4,
      "outputs": []
    },
    {
      "cell_type": "code",
      "source": [
        "evernote_df=evernote_df.sort_values(by='Release Date',ascending=True)"
      ],
      "metadata": {
        "id": "gXLStY8KOJdt"
      },
      "execution_count": 5,
      "outputs": []
    },
    {
      "cell_type": "code",
      "source": [
        "evernote_df"
      ],
      "metadata": {
        "colab": {
          "base_uri": "https://localhost:8080/",
          "height": 771
        },
        "id": "0DCiLHZaOg74",
        "outputId": "8a0eecca-d0bd-4ffd-b8c0-ac13707de3e4"
      },
      "execution_count": 6,
      "outputs": [
        {
          "output_type": "execute_result",
          "data": {
            "text/plain": [
              "                                        Feature Title  \\\n",
              "22                My Tasks : Personal Task Management   \n",
              "21           Evernote and Google Calendar integration   \n",
              "20         Improvements to Calendar widget load times   \n",
              "19                  Save search with notebook filters   \n",
              "18  Improved email notifications for shared notes/...   \n",
              "17               Tag filtering now includes sub-tags.   \n",
              "16     PDF Preview and Recent Notes Editing Bug Fixes   \n",
              "15  Improved Calendar Loading Indicator to Prevent...   \n",
              "14  Improved settings menu for easier access to ap...   \n",
              "13  Enhancements to Editor and Navigation for Impr...   \n",
              "12                     Filter search results by stack   \n",
              "11  Improved Google Calendar account connection speed   \n",
              "9   Note linking via drag and drop functionality i...   \n",
              "10  Improvements to Keyboard Navigation and Link I...   \n",
              "8         Repeat Tasks with Custom Recurrence Options   \n",
              "7         Improved Note Management and Task Filtering   \n",
              "6                          Auto-populated Note Titles   \n",
              "5            Fixed Card View Note Editing Focus Issue   \n",
              "4             Editor toolbar formatting improvements.   \n",
              "3                    Auto-Conversion of Text to Tasks   \n",
              "2   Change default behavior for striking through a...   \n",
              "1           Improved Note Linking and Viewing Options   \n",
              "0                            Enhanced Note Management   \n",
              "\n",
              "                                  Feature Description Release Date  \\\n",
              "22  Now see ONLY tasks assigned to you, or tasks y...   2022-01-04   \n",
              "21  When you have Evernote and Google Calendar con...   2022-01-19   \n",
              "20         Improvements to Calendar widget load times   2022-02-01   \n",
              "19  Save search is now available when filtering wi...   2022-02-26   \n",
              "18  The app would send you an email every time som...   2022-03-03   \n",
              "17  When you filter your tags, you can now choose ...   2022-03-03   \n",
              "16  There was a problem with previewing PDFs (only...   2022-03-11   \n",
              "15  Calendar loading indicator improvements - this...   2022-03-31   \n",
              "14  We're making it easier for you to adjust the a...   2022-04-20   \n",
              "13  Keyboard navigation into and out of the editor...   2022-05-10   \n",
              "12  You can now filter by stack when searching wit...   2022-05-26   \n",
              "11  We have improved the speed of connecting and d...   2022-05-26   \n",
              "9   You can now drag and drop notes from the note ...   2022-06-10   \n",
              "10  Additional keyboard navigation improvements ha...   2022-06-10   \n",
              "8   Now when you add a due date to a task, you'll ...   2022-07-06   \n",
              "7   Tags can be dragged and dropped from the tags ...   2022-08-03   \n",
              "6   The app will now auto-populate new note titles...   2022-08-03   \n",
              "5   In card view, editing a note that was NOT the ...   2022-08-31   \n",
              "4   The editor toolbar had incorrect button format...   2022-08-31   \n",
              "3   Creating tasks just got easier! Type \"()\" insi...   2022-09-21   \n",
              "2   We’ve added a new setting that lets you change...   2022-10-03   \n",
              "1   Now you can easily add links to other notes in...   2022-12-09   \n",
              "0   You can now select up to 100 notes and perform...   2022-12-09   \n",
              "\n",
              "    Release Version  \n",
              "22            10.28  \n",
              "21            10.29  \n",
              "20            10.30  \n",
              "19            10.31  \n",
              "18            10.32  \n",
              "17            10.32  \n",
              "16            10.33  \n",
              "15            10.34  \n",
              "14            10.35  \n",
              "13            10.37  \n",
              "12            10.38  \n",
              "11            10.38  \n",
              "9             10.39  \n",
              "10            10.39  \n",
              "8             10.40  \n",
              "7             10.42  \n",
              "6             10.42  \n",
              "5             10.44  \n",
              "4             10.44  \n",
              "3             10.45  \n",
              "2             10.46  \n",
              "1             10.50  \n",
              "0             10.50  "
            ],
            "text/html": [
              "\n",
              "  <div id=\"df-de7487e8-7b31-4d23-8cbc-21235eed5cb9\">\n",
              "    <div class=\"colab-df-container\">\n",
              "      <div>\n",
              "<style scoped>\n",
              "    .dataframe tbody tr th:only-of-type {\n",
              "        vertical-align: middle;\n",
              "    }\n",
              "\n",
              "    .dataframe tbody tr th {\n",
              "        vertical-align: top;\n",
              "    }\n",
              "\n",
              "    .dataframe thead th {\n",
              "        text-align: right;\n",
              "    }\n",
              "</style>\n",
              "<table border=\"1\" class=\"dataframe\">\n",
              "  <thead>\n",
              "    <tr style=\"text-align: right;\">\n",
              "      <th></th>\n",
              "      <th>Feature Title</th>\n",
              "      <th>Feature Description</th>\n",
              "      <th>Release Date</th>\n",
              "      <th>Release Version</th>\n",
              "    </tr>\n",
              "  </thead>\n",
              "  <tbody>\n",
              "    <tr>\n",
              "      <th>22</th>\n",
              "      <td>My Tasks : Personal Task Management</td>\n",
              "      <td>Now see ONLY tasks assigned to you, or tasks y...</td>\n",
              "      <td>2022-01-04</td>\n",
              "      <td>10.28</td>\n",
              "    </tr>\n",
              "    <tr>\n",
              "      <th>21</th>\n",
              "      <td>Evernote and Google Calendar integration</td>\n",
              "      <td>When you have Evernote and Google Calendar con...</td>\n",
              "      <td>2022-01-19</td>\n",
              "      <td>10.29</td>\n",
              "    </tr>\n",
              "    <tr>\n",
              "      <th>20</th>\n",
              "      <td>Improvements to Calendar widget load times</td>\n",
              "      <td>Improvements to Calendar widget load times</td>\n",
              "      <td>2022-02-01</td>\n",
              "      <td>10.30</td>\n",
              "    </tr>\n",
              "    <tr>\n",
              "      <th>19</th>\n",
              "      <td>Save search with notebook filters</td>\n",
              "      <td>Save search is now available when filtering wi...</td>\n",
              "      <td>2022-02-26</td>\n",
              "      <td>10.31</td>\n",
              "    </tr>\n",
              "    <tr>\n",
              "      <th>18</th>\n",
              "      <td>Improved email notifications for shared notes/...</td>\n",
              "      <td>The app would send you an email every time som...</td>\n",
              "      <td>2022-03-03</td>\n",
              "      <td>10.32</td>\n",
              "    </tr>\n",
              "    <tr>\n",
              "      <th>17</th>\n",
              "      <td>Tag filtering now includes sub-tags.</td>\n",
              "      <td>When you filter your tags, you can now choose ...</td>\n",
              "      <td>2022-03-03</td>\n",
              "      <td>10.32</td>\n",
              "    </tr>\n",
              "    <tr>\n",
              "      <th>16</th>\n",
              "      <td>PDF Preview and Recent Notes Editing Bug Fixes</td>\n",
              "      <td>There was a problem with previewing PDFs (only...</td>\n",
              "      <td>2022-03-11</td>\n",
              "      <td>10.33</td>\n",
              "    </tr>\n",
              "    <tr>\n",
              "      <th>15</th>\n",
              "      <td>Improved Calendar Loading Indicator to Prevent...</td>\n",
              "      <td>Calendar loading indicator improvements - this...</td>\n",
              "      <td>2022-03-31</td>\n",
              "      <td>10.34</td>\n",
              "    </tr>\n",
              "    <tr>\n",
              "      <th>14</th>\n",
              "      <td>Improved settings menu for easier access to ap...</td>\n",
              "      <td>We're making it easier for you to adjust the a...</td>\n",
              "      <td>2022-04-20</td>\n",
              "      <td>10.35</td>\n",
              "    </tr>\n",
              "    <tr>\n",
              "      <th>13</th>\n",
              "      <td>Enhancements to Editor and Navigation for Impr...</td>\n",
              "      <td>Keyboard navigation into and out of the editor...</td>\n",
              "      <td>2022-05-10</td>\n",
              "      <td>10.37</td>\n",
              "    </tr>\n",
              "    <tr>\n",
              "      <th>12</th>\n",
              "      <td>Filter search results by stack</td>\n",
              "      <td>You can now filter by stack when searching wit...</td>\n",
              "      <td>2022-05-26</td>\n",
              "      <td>10.38</td>\n",
              "    </tr>\n",
              "    <tr>\n",
              "      <th>11</th>\n",
              "      <td>Improved Google Calendar account connection speed</td>\n",
              "      <td>We have improved the speed of connecting and d...</td>\n",
              "      <td>2022-05-26</td>\n",
              "      <td>10.38</td>\n",
              "    </tr>\n",
              "    <tr>\n",
              "      <th>9</th>\n",
              "      <td>Note linking via drag and drop functionality i...</td>\n",
              "      <td>You can now drag and drop notes from the note ...</td>\n",
              "      <td>2022-06-10</td>\n",
              "      <td>10.39</td>\n",
              "    </tr>\n",
              "    <tr>\n",
              "      <th>10</th>\n",
              "      <td>Improvements to Keyboard Navigation and Link I...</td>\n",
              "      <td>Additional keyboard navigation improvements ha...</td>\n",
              "      <td>2022-06-10</td>\n",
              "      <td>10.39</td>\n",
              "    </tr>\n",
              "    <tr>\n",
              "      <th>8</th>\n",
              "      <td>Repeat Tasks with Custom Recurrence Options</td>\n",
              "      <td>Now when you add a due date to a task, you'll ...</td>\n",
              "      <td>2022-07-06</td>\n",
              "      <td>10.40</td>\n",
              "    </tr>\n",
              "    <tr>\n",
              "      <th>7</th>\n",
              "      <td>Improved Note Management and Task Filtering</td>\n",
              "      <td>Tags can be dragged and dropped from the tags ...</td>\n",
              "      <td>2022-08-03</td>\n",
              "      <td>10.42</td>\n",
              "    </tr>\n",
              "    <tr>\n",
              "      <th>6</th>\n",
              "      <td>Auto-populated Note Titles</td>\n",
              "      <td>The app will now auto-populate new note titles...</td>\n",
              "      <td>2022-08-03</td>\n",
              "      <td>10.42</td>\n",
              "    </tr>\n",
              "    <tr>\n",
              "      <th>5</th>\n",
              "      <td>Fixed Card View Note Editing Focus Issue</td>\n",
              "      <td>In card view, editing a note that was NOT the ...</td>\n",
              "      <td>2022-08-31</td>\n",
              "      <td>10.44</td>\n",
              "    </tr>\n",
              "    <tr>\n",
              "      <th>4</th>\n",
              "      <td>Editor toolbar formatting improvements.</td>\n",
              "      <td>The editor toolbar had incorrect button format...</td>\n",
              "      <td>2022-08-31</td>\n",
              "      <td>10.44</td>\n",
              "    </tr>\n",
              "    <tr>\n",
              "      <th>3</th>\n",
              "      <td>Auto-Conversion of Text to Tasks</td>\n",
              "      <td>Creating tasks just got easier! Type \"()\" insi...</td>\n",
              "      <td>2022-09-21</td>\n",
              "      <td>10.45</td>\n",
              "    </tr>\n",
              "    <tr>\n",
              "      <th>2</th>\n",
              "      <td>Change default behavior for striking through a...</td>\n",
              "      <td>We’ve added a new setting that lets you change...</td>\n",
              "      <td>2022-10-03</td>\n",
              "      <td>10.46</td>\n",
              "    </tr>\n",
              "    <tr>\n",
              "      <th>1</th>\n",
              "      <td>Improved Note Linking and Viewing Options</td>\n",
              "      <td>Now you can easily add links to other notes in...</td>\n",
              "      <td>2022-12-09</td>\n",
              "      <td>10.50</td>\n",
              "    </tr>\n",
              "    <tr>\n",
              "      <th>0</th>\n",
              "      <td>Enhanced Note Management</td>\n",
              "      <td>You can now select up to 100 notes and perform...</td>\n",
              "      <td>2022-12-09</td>\n",
              "      <td>10.50</td>\n",
              "    </tr>\n",
              "  </tbody>\n",
              "</table>\n",
              "</div>\n",
              "      <button class=\"colab-df-convert\" onclick=\"convertToInteractive('df-de7487e8-7b31-4d23-8cbc-21235eed5cb9')\"\n",
              "              title=\"Convert this dataframe to an interactive table.\"\n",
              "              style=\"display:none;\">\n",
              "        \n",
              "  <svg xmlns=\"http://www.w3.org/2000/svg\" height=\"24px\"viewBox=\"0 0 24 24\"\n",
              "       width=\"24px\">\n",
              "    <path d=\"M0 0h24v24H0V0z\" fill=\"none\"/>\n",
              "    <path d=\"M18.56 5.44l.94 2.06.94-2.06 2.06-.94-2.06-.94-.94-2.06-.94 2.06-2.06.94zm-11 1L8.5 8.5l.94-2.06 2.06-.94-2.06-.94L8.5 2.5l-.94 2.06-2.06.94zm10 10l.94 2.06.94-2.06 2.06-.94-2.06-.94-.94-2.06-.94 2.06-2.06.94z\"/><path d=\"M17.41 7.96l-1.37-1.37c-.4-.4-.92-.59-1.43-.59-.52 0-1.04.2-1.43.59L10.3 9.45l-7.72 7.72c-.78.78-.78 2.05 0 2.83L4 21.41c.39.39.9.59 1.41.59.51 0 1.02-.2 1.41-.59l7.78-7.78 2.81-2.81c.8-.78.8-2.07 0-2.86zM5.41 20L4 18.59l7.72-7.72 1.47 1.35L5.41 20z\"/>\n",
              "  </svg>\n",
              "      </button>\n",
              "      \n",
              "  <style>\n",
              "    .colab-df-container {\n",
              "      display:flex;\n",
              "      flex-wrap:wrap;\n",
              "      gap: 12px;\n",
              "    }\n",
              "\n",
              "    .colab-df-convert {\n",
              "      background-color: #E8F0FE;\n",
              "      border: none;\n",
              "      border-radius: 50%;\n",
              "      cursor: pointer;\n",
              "      display: none;\n",
              "      fill: #1967D2;\n",
              "      height: 32px;\n",
              "      padding: 0 0 0 0;\n",
              "      width: 32px;\n",
              "    }\n",
              "\n",
              "    .colab-df-convert:hover {\n",
              "      background-color: #E2EBFA;\n",
              "      box-shadow: 0px 1px 2px rgba(60, 64, 67, 0.3), 0px 1px 3px 1px rgba(60, 64, 67, 0.15);\n",
              "      fill: #174EA6;\n",
              "    }\n",
              "\n",
              "    [theme=dark] .colab-df-convert {\n",
              "      background-color: #3B4455;\n",
              "      fill: #D2E3FC;\n",
              "    }\n",
              "\n",
              "    [theme=dark] .colab-df-convert:hover {\n",
              "      background-color: #434B5C;\n",
              "      box-shadow: 0px 1px 3px 1px rgba(0, 0, 0, 0.15);\n",
              "      filter: drop-shadow(0px 1px 2px rgba(0, 0, 0, 0.3));\n",
              "      fill: #FFFFFF;\n",
              "    }\n",
              "  </style>\n",
              "\n",
              "      <script>\n",
              "        const buttonEl =\n",
              "          document.querySelector('#df-de7487e8-7b31-4d23-8cbc-21235eed5cb9 button.colab-df-convert');\n",
              "        buttonEl.style.display =\n",
              "          google.colab.kernel.accessAllowed ? 'block' : 'none';\n",
              "\n",
              "        async function convertToInteractive(key) {\n",
              "          const element = document.querySelector('#df-de7487e8-7b31-4d23-8cbc-21235eed5cb9');\n",
              "          const dataTable =\n",
              "            await google.colab.kernel.invokeFunction('convertToInteractive',\n",
              "                                                     [key], {});\n",
              "          if (!dataTable) return;\n",
              "\n",
              "          const docLinkHtml = 'Like what you see? Visit the ' +\n",
              "            '<a target=\"_blank\" href=https://colab.research.google.com/notebooks/data_table.ipynb>data table notebook</a>'\n",
              "            + ' to learn more about interactive tables.';\n",
              "          element.innerHTML = '';\n",
              "          dataTable['output_type'] = 'display_data';\n",
              "          await google.colab.output.renderOutput(dataTable, element);\n",
              "          const docLink = document.createElement('div');\n",
              "          docLink.innerHTML = docLinkHtml;\n",
              "          element.appendChild(docLink);\n",
              "        }\n",
              "      </script>\n",
              "    </div>\n",
              "  </div>\n",
              "  "
            ]
          },
          "metadata": {},
          "execution_count": 6
        }
      ]
    },
    {
      "cell_type": "code",
      "source": [
        "print(evernote_df.shape[0])"
      ],
      "metadata": {
        "colab": {
          "base_uri": "https://localhost:8080/"
        },
        "id": "bZjt-nzMO8mK",
        "outputId": "6cadd85d-6765-40d1-9225-fcab65019864"
      },
      "execution_count": 7,
      "outputs": [
        {
          "output_type": "stream",
          "name": "stdout",
          "text": [
            "23\n"
          ]
        }
      ]
    },
    {
      "cell_type": "markdown",
      "source": [
        "<h1>Total number of features in Evernote are 23</h1>"
      ],
      "metadata": {
        "id": "u3ice8d6O0a_"
      }
    },
    {
      "cell_type": "code",
      "source": [
        "evernote_df['Release Month']=evernote_df['Release Date'].dt.month"
      ],
      "metadata": {
        "id": "8IHpf7yOO61m"
      },
      "execution_count": 8,
      "outputs": []
    },
    {
      "cell_type": "code",
      "source": [
        "sns.set_style('whitegrid')\n",
        "plt.figure(figsize=(12,6))\n",
        "plot=sns.histplot(data=evernote_df, x='Release Month',color=(0.4, 0.6, 1, 0.5),bins=12,alpha=0.6)\n",
        "plt.xticks(range(1, 13), [pd.Timestamp(2022, i, 1).strftime('%b') for i in range(1, 13)])\n",
        "plot.set(xlabel=\"Release Month\", ylabel=\"Number of features\",title=\"total releases per month for Evernote\")\n",
        "plt.xlim(1,12)\n",
        "plt.show()"
      ],
      "metadata": {
        "colab": {
          "base_uri": "https://localhost:8080/",
          "height": 564
        },
        "id": "Jna4Ne0gPQZ0",
        "outputId": "7731d308-5b4c-4d15-b5e3-ec73030071aa"
      },
      "execution_count": 9,
      "outputs": [
        {
          "output_type": "display_data",
          "data": {
            "text/plain": [
              "<Figure size 1200x600 with 1 Axes>"
            ],
            "image/png": "[encoded data removed]"
          },
          "metadata": {}
        }
      ]
    },
    {
      "cell_type": "code",
      "source": [
        "print(evernote_df.shape[0]/12)"
      ],
      "metadata": {
        "colab": {
          "base_uri": "https://localhost:8080/"
        },
        "id": "uTPuqHnQRSw4",
        "outputId": "60b1c6d3-40b8-4aa1-e19a-4619cefde23c"
      },
      "execution_count": 10,
      "outputs": [
        {
          "output_type": "stream",
          "name": "stdout",
          "text": [
            "1.9166666666666667\n"
          ]
        }
      ]
    },
    {
      "cell_type": "markdown",
      "source": [
        "<h1>Average number of features per month is 2</h1>"
      ],
      "metadata": {
        "id": "aQdABzDcRkhd"
      }
    },
    {
      "cell_type": "code",
      "source": [
        "evernote_df.describe()"
      ],
      "metadata": {
        "colab": {
          "base_uri": "https://localhost:8080/",
          "height": 300
        },
        "id": "_-_r9s33Rsx8",
        "outputId": "1ed8f816-fe19-4479-953f-3ba054f4b286"
      },
      "execution_count": 11,
      "outputs": [
        {
          "output_type": "execute_result",
          "data": {
            "text/plain": [
              "       Release Version  Release Month\n",
              "count        23.000000      23.000000\n",
              "mean         10.381739       5.695652\n",
              "std           0.064923       3.281280\n",
              "min          10.280000       1.000000\n",
              "25%          10.325000       3.000000\n",
              "50%          10.380000       5.000000\n",
              "75%          10.430000       8.000000\n",
              "max          10.500000      12.000000"
            ],
            "text/html": [
              "\n",
              "  <div id=\"df-e45336d0-06d2-4902-9700-d08e8ac44bef\">\n",
              "    <div class=\"colab-df-container\">\n",
              "      <div>\n",
              "<style scoped>\n",
              "    .dataframe tbody tr th:only-of-type {\n",
              "        vertical-align: middle;\n",
              "    }\n",
              "\n",
              "    .dataframe tbody tr th {\n",
              "        vertical-align: top;\n",
              "    }\n",
              "\n",
              "    .dataframe thead th {\n",
              "        text-align: right;\n",
              "    }\n",
              "</style>\n",
              "<table border=\"1\" class=\"dataframe\">\n",
              "  <thead>\n",
              "    <tr style=\"text-align: right;\">\n",
              "      <th></th>\n",
              "      <th>Release Version</th>\n",
              "      <th>Release Month</th>\n",
              "    </tr>\n",
              "  </thead>\n",
              "  <tbody>\n",
              "    <tr>\n",
              "      <th>count</th>\n",
              "      <td>23.000000</td>\n",
              "      <td>23.000000</td>\n",
              "    </tr>\n",
              "    <tr>\n",
              "      <th>mean</th>\n",
              "      <td>10.381739</td>\n",
              "      <td>5.695652</td>\n",
              "    </tr>\n",
              "    <tr>\n",
              "      <th>std</th>\n",
              "      <td>0.064923</td>\n",
              "      <td>3.281280</td>\n",
              "    </tr>\n",
              "    <tr>\n",
              "      <th>min</th>\n",
              "      <td>10.280000</td>\n",
              "      <td>1.000000</td>\n",
              "    </tr>\n",
              "    <tr>\n",
              "      <th>25%</th>\n",
              "      <td>10.325000</td>\n",
              "      <td>3.000000</td>\n",
              "    </tr>\n",
              "    <tr>\n",
              "      <th>50%</th>\n",
              "      <td>10.380000</td>\n",
              "      <td>5.000000</td>\n",
              "    </tr>\n",
              "    <tr>\n",
              "      <th>75%</th>\n",
              "      <td>10.430000</td>\n",
              "      <td>8.000000</td>\n",
              "    </tr>\n",
              "    <tr>\n",
              "      <th>max</th>\n",
              "      <td>10.500000</td>\n",
              "      <td>12.000000</td>\n",
              "    </tr>\n",
              "  </tbody>\n",
              "</table>\n",
              "</div>\n",
              "      <button class=\"colab-df-convert\" onclick=\"convertToInteractive('df-e45336d0-06d2-4902-9700-d08e8ac44bef')\"\n",
              "              title=\"Convert this dataframe to an interactive table.\"\n",
              "              style=\"display:none;\">\n",
              "        \n",
              "  <svg xmlns=\"http://www.w3.org/2000/svg\" height=\"24px\"viewBox=\"0 0 24 24\"\n",
              "       width=\"24px\">\n",
              "    <path d=\"M0 0h24v24H0V0z\" fill=\"none\"/>\n",
              "    <path d=\"M18.56 5.44l.94 2.06.94-2.06 2.06-.94-2.06-.94-.94-2.06-.94 2.06-2.06.94zm-11 1L8.5 8.5l.94-2.06 2.06-.94-2.06-.94L8.5 2.5l-.94 2.06-2.06.94zm10 10l.94 2.06.94-2.06 2.06-.94-2.06-.94-.94-2.06-.94 2.06-2.06.94z\"/><path d=\"M17.41 7.96l-1.37-1.37c-.4-.4-.92-.59-1.43-.59-.52 0-1.04.2-1.43.59L10.3 9.45l-7.72 7.72c-.78.78-.78 2.05 0 2.83L4 21.41c.39.39.9.59 1.41.59.51 0 1.02-.2 1.41-.59l7.78-7.78 2.81-2.81c.8-.78.8-2.07 0-2.86zM5.41 20L4 18.59l7.72-7.72 1.47 1.35L5.41 20z\"/>\n",
              "  </svg>\n",
              "      </button>\n",
              "      \n",
              "  <style>\n",
              "    .colab-df-container {\n",
              "      display:flex;\n",
              "      flex-wrap:wrap;\n",
              "      gap: 12px;\n",
              "    }\n",
              "\n",
              "    .colab-df-convert {\n",
              "      background-color: #E8F0FE;\n",
              "      border: none;\n",
              "      border-radius: 50%;\n",
              "      cursor: pointer;\n",
              "      display: none;\n",
              "      fill: #1967D2;\n",
              "      height: 32px;\n",
              "      padding: 0 0 0 0;\n",
              "      width: 32px;\n",
              "    }\n",
              "\n",
              "    .colab-df-convert:hover {\n",
              "      background-color: #E2EBFA;\n",
              "      box-shadow: 0px 1px 2px rgba(60, 64, 67, 0.3), 0px 1px 3px 1px rgba(60, 64, 67, 0.15);\n",
              "      fill: #174EA6;\n",
              "    }\n",
              "\n",
              "    [theme=dark] .colab-df-convert {\n",
              "      background-color: #3B4455;\n",
              "      fill: #D2E3FC;\n",
              "    }\n",
              "\n",
              "    [theme=dark] .colab-df-convert:hover {\n",
              "      background-color: #434B5C;\n",
              "      box-shadow: 0px 1px 3px 1px rgba(0, 0, 0, 0.15);\n",
              "      filter: drop-shadow(0px 1px 2px rgba(0, 0, 0, 0.3));\n",
              "      fill: #FFFFFF;\n",
              "    }\n",
              "  </style>\n",
              "\n",
              "      <script>\n",
              "        const buttonEl =\n",
              "          document.querySelector('#df-e45336d0-06d2-4902-9700-d08e8ac44bef button.colab-df-convert');\n",
              "        buttonEl.style.display =\n",
              "          google.colab.kernel.accessAllowed ? 'block' : 'none';\n",
              "\n",
              "        async function convertToInteractive(key) {\n",
              "          const element = document.querySelector('#df-e45336d0-06d2-4902-9700-d08e8ac44bef');\n",
              "          const dataTable =\n",
              "            await google.colab.kernel.invokeFunction('convertToInteractive',\n",
              "                                                     [key], {});\n",
              "          if (!dataTable) return;\n",
              "\n",
              "          const docLinkHtml = 'Like what you see? Visit the ' +\n",
              "            '<a target=\"_blank\" href=https://colab.research.google.com/notebooks/data_table.ipynb>data table notebook</a>'\n",
              "            + ' to learn more about interactive tables.';\n",
              "          element.innerHTML = '';\n",
              "          dataTable['output_type'] = 'display_data';\n",
              "          await google.colab.output.renderOutput(dataTable, element);\n",
              "          const docLink = document.createElement('div');\n",
              "          docLink.innerHTML = docLinkHtml;\n",
              "          element.appendChild(docLink);\n",
              "        }\n",
              "      </script>\n",
              "    </div>\n",
              "  </div>\n",
              "  "
            ]
          },
          "metadata": {},
          "execution_count": 11
        }
      ]
    },
    {
      "cell_type": "code",
      "source": [
        "grouped_df = evernote_df.groupby('Release Month')['Feature Title'].count()\n",
        "\n",
        "min_features = grouped_df.min()\n",
        "max_features = grouped_df.max()\n",
        "\n",
        "print(f\"Minimum number of features released in a month: {min_features}\")\n",
        "print(f\"Maximum number of features released in a month: {max_features}\")\n"
      ],
      "metadata": {
        "colab": {
          "base_uri": "https://localhost:8080/"
        },
        "id": "U3d8UtmbR9zl",
        "outputId": "a31c421a-f2f4-4d13-88e9-baf33182bc7f"
      },
      "execution_count": 12,
      "outputs": [
        {
          "output_type": "stream",
          "name": "stdout",
          "text": [
            "Minimum number of features released in a month: 1\n",
            "Maximum number of features released in a month: 4\n"
          ]
        }
      ]
    },
    {
      "cell_type": "code",
      "source": [
        "def word_tokenize(text):\n",
        "  words=nltk.word_tokenize(text)\n",
        "  return len(words)"
      ],
      "metadata": {
        "id": "7NzDLVwJSuWc"
      },
      "execution_count": 45,
      "outputs": []
    },
    {
      "cell_type": "code",
      "source": [
        "total_tokens=evernote_df['Feature Description'].apply(word_tokenize).sum()"
      ],
      "metadata": {
        "id": "2ZUwUifETzJu"
      },
      "execution_count": 46,
      "outputs": []
    },
    {
      "cell_type": "code",
      "source": [
        "print(total_tokens)"
      ],
      "metadata": {
        "colab": {
          "base_uri": "https://localhost:8080/"
        },
        "id": "sbqVxYipXr3v",
        "outputId": "e3b140e0-efa2-4fad-b309-03ad8c4e794a"
      },
      "execution_count": 47,
      "outputs": [
        {
          "output_type": "stream",
          "name": "stdout",
          "text": [
            "1034\n"
          ]
        }
      ]
    },
    {
      "cell_type": "markdown",
      "source": [
        "<h1>Total number of tokens in Feature Description column are 1034</h1>\n",
        "\n"
      ],
      "metadata": {
        "id": "8GCTHTPmX3Rp"
      }
    },
    {
      "cell_type": "code",
      "source": [
        "total_tokens_feature_title=evernote_df['Feature Title'].apply(word_tokenize).sum()"
      ],
      "metadata": {
        "id": "d3WPE5zJX8er"
      },
      "execution_count": 48,
      "outputs": []
    },
    {
      "cell_type": "code",
      "source": [
        "print(total_tokens_feature_title)"
      ],
      "metadata": {
        "colab": {
          "base_uri": "https://localhost:8080/"
        },
        "id": "cC6sAyzQYERJ",
        "outputId": "0a02d861-9d61-4740-bf07-62b0374860fd"
      },
      "execution_count": 49,
      "outputs": [
        {
          "output_type": "stream",
          "name": "stdout",
          "text": [
            "163\n"
          ]
        }
      ]
    },
    {
      "cell_type": "markdown",
      "source": [
        "<h1>Total number of tokens in Feature Title are 163</h1>"
      ],
      "metadata": {
        "id": "gp2wAfAiYHwG"
      }
    },
    {
      "cell_type": "code",
      "source": [
        "def sent_tokenize(text):\n",
        "  sentences_per_feature=nltk.sent_tokenize(text)\n",
        "  return len(sentences_per_feature)"
      ],
      "metadata": {
        "id": "A5raK3zcYLWF"
      },
      "execution_count": 50,
      "outputs": []
    },
    {
      "cell_type": "code",
      "source": [
        "avg_sentences_per_feature=evernote_df['Feature Description'].apply(sent_tokenize).sum()/evernote_df.shape[0]"
      ],
      "metadata": {
        "id": "jZdixiVXYpt2"
      },
      "execution_count": 51,
      "outputs": []
    },
    {
      "cell_type": "code",
      "source": [
        "avg_sentences_per_feature"
      ],
      "metadata": {
        "colab": {
          "base_uri": "https://localhost:8080/"
        },
        "id": "6ty1MjIfY3Tt",
        "outputId": "f4cb7c67-ff5c-4fcb-9cb4-f97c66218509"
      },
      "execution_count": 52,
      "outputs": [
        {
          "output_type": "execute_result",
          "data": {
            "text/plain": [
              "2.130434782608696"
            ]
          },
          "metadata": {},
          "execution_count": 52
        }
      ]
    },
    {
      "cell_type": "markdown",
      "source": [
        "<h1>Avg number of sentences per feature are 2.2</h1>"
      ],
      "metadata": {
        "id": "5fO7I1BNbbF6"
      }
    },
    {
      "cell_type": "code",
      "source": [
        "def avg_sentence_length(text):\n",
        "    sentences = nltk.sent_tokenize(text)\n",
        "    words_per_sentence = [len(nltk.word_tokenize(sentence)) for sentence in sentences]\n",
        "    return sum(words_per_sentence) / len(sentences)"
      ],
      "metadata": {
        "id": "cR4p5P0pbgfI"
      },
      "execution_count": 53,
      "outputs": []
    },
    {
      "cell_type": "code",
      "source": [
        "avg_sentence_len_per_feature=evernote_df['Feature Description'].apply(avg_sentence_length).sum()/evernote_df.shape[0]"
      ],
      "metadata": {
        "id": "pBPQ6yPJd_RL"
      },
      "execution_count": 54,
      "outputs": []
    },
    {
      "cell_type": "code",
      "source": [
        "avg_sentence_len_per_feature"
      ],
      "metadata": {
        "colab": {
          "base_uri": "https://localhost:8080/"
        },
        "id": "qoWTkAQYeGBW",
        "outputId": "5bcf1598-2f9d-4866-cece-1431fd5b159a"
      },
      "execution_count": 55,
      "outputs": [
        {
          "output_type": "execute_result",
          "data": {
            "text/plain": [
              "21.26293995859213"
            ]
          },
          "metadata": {},
          "execution_count": 55
        }
      ]
    },
    {
      "cell_type": "markdown",
      "source": [
        "<h1>Avg sentence length per feature is 21.3 (i.e 21 words per sentence)</h1>"
      ],
      "metadata": {
        "id": "KkBcl2yJejwT"
      }
    },
    {
      "cell_type": "markdown",
      "source": [
        "<h1>Exploratory Analysis on Zoom Dataset</h1>"
      ],
      "metadata": {
        "id": "iODygoRxrxvK"
      }
    },
    {
      "cell_type": "code",
      "source": [
        "zoom_path=\"/content/drive/MyDrive/dataset/Zoom-features-2022.xlsx\""
      ],
      "metadata": {
        "id": "2a8dbh-5r2XK"
      },
      "execution_count": 56,
      "outputs": []
    },
    {
      "cell_type": "code",
      "source": [
        "dfs = pd.read_excel(zoom_path, sheet_name=[\"Dec-2022\", \"Nov-2022\", \"Oct-2022\", \"Sept-2022\", \"Aug-2022\", \"July-2022\", \"June-2022\", \"May-2022\", \"April-2022\", \"March-2022\", \"Feb-2022\", \"Jan-2022\"])\n",
        "zoom_df = pd.concat(dfs.values(), ignore_index=True)"
      ],
      "metadata": {
        "id": "D3kWAXobsHIZ"
      },
      "execution_count": 57,
      "outputs": []
    },
    {
      "cell_type": "code",
      "source": [
        "zoom_df['Release Month']=zoom_df['Release Date'].dt.month"
      ],
      "metadata": {
        "id": "8nE4eO8SsLmB"
      },
      "execution_count": 58,
      "outputs": []
    },
    {
      "cell_type": "code",
      "source": [
        "l=zoom_df[zoom_df['Feature Title'].isnull()].index.tolist()"
      ],
      "metadata": {
        "id": "PMlQCCrqxfxp"
      },
      "execution_count": 59,
      "outputs": []
    },
    {
      "cell_type": "code",
      "source": [
        "zoom_df=zoom_df.drop(l[0])"
      ],
      "metadata": {
        "id": "RzIMNpl6xsYF"
      },
      "execution_count": 60,
      "outputs": []
    },
    {
      "cell_type": "code",
      "source": [
        "print(zoom_df.shape[0])"
      ],
      "metadata": {
        "colab": {
          "base_uri": "https://localhost:8080/"
        },
        "id": "9Ou8TTzpsl0m",
        "outputId": "64eb55e3-8298-4b93-c2dc-a79aeb6ca2ca"
      },
      "execution_count": 61,
      "outputs": [
        {
          "output_type": "stream",
          "name": "stdout",
          "text": [
            "281\n"
          ]
        }
      ]
    },
    {
      "cell_type": "markdown",
      "source": [
        "<h1>Total number of Features in Zoom dataset is 281</h1>"
      ],
      "metadata": {
        "id": "rpTCP42Ksq2b"
      }
    },
    {
      "cell_type": "code",
      "source": [
        "sns.set_style('whitegrid')\n",
        "plt.figure(figsize=(12,6))\n",
        "plot=sns.histplot(data=zoom_df, x='Release Month',color=(0.4, 0.6, 1, 0.5),bins=12,alpha=0.6)\n",
        "plt.xticks(range(1, 13), [pd.Timestamp(2022, i, 1).strftime('%b') for i in range(1, 13)])\n",
        "plot.set(xlabel=\"Release Month\", ylabel=\"Number of features\",title=\"total releases per month\")\n",
        "plt.xlim(1,12)\n",
        "plt.show()"
      ],
      "metadata": {
        "colab": {
          "base_uri": "https://localhost:8080/",
          "height": 564
        },
        "id": "gJYMPYDHsTN8",
        "outputId": "fd692914-fe11-461d-9ae5-e4dac2b9df53"
      },
      "execution_count": 62,
      "outputs": [
        {
          "output_type": "display_data",
          "data": {
            "text/plain": [
              "<Figure size 1200x600 with 1 Axes>"
            ],
            "image/png": "[encoded data removed]"
          },
          "metadata": {}
        }
      ]
    },
    {
      "cell_type": "code",
      "source": [
        "print(zoom_df.shape[0]/12)"
      ],
      "metadata": {
        "colab": {
          "base_uri": "https://localhost:8080/"
        },
        "id": "5gAMMqfXsW-N",
        "outputId": "60e8dce1-d902-42f6-93dd-4d3fc95519d8"
      },
      "execution_count": 63,
      "outputs": [
        {
          "output_type": "stream",
          "name": "stdout",
          "text": [
            "23.416666666666668\n"
          ]
        }
      ]
    },
    {
      "cell_type": "markdown",
      "source": [
        "<h1>Average number of features released per month for zoom are 23</h1>"
      ],
      "metadata": {
        "id": "wLMJ7GHAvj4x"
      }
    },
    {
      "cell_type": "code",
      "source": [
        "grouped_df = zoom_df.groupby('Release Month')['Feature Title'].count()\n",
        "\n",
        "min_features = grouped_df.min()\n",
        "max_features = grouped_df.max()\n",
        "\n",
        "print(f\"Minimum number of features released in a month: {min_features}\")\n",
        "print(f\"Maximum number of features released in a month: {max_features}\")"
      ],
      "metadata": {
        "colab": {
          "base_uri": "https://localhost:8080/"
        },
        "id": "y_51qBajv9lf",
        "outputId": "abfd00a5-d091-400a-b179-4ccb0b363e3f"
      },
      "execution_count": 64,
      "outputs": [
        {
          "output_type": "stream",
          "name": "stdout",
          "text": [
            "Minimum number of features released in a month: 5\n",
            "Maximum number of features released in a month: 42\n"
          ]
        }
      ]
    },
    {
      "cell_type": "markdown",
      "source": [
        "<h2>Minimum number of features released in a month: 5</h2>\n",
        "<h2>Maximum number of features released in a month: 42</h2>"
      ],
      "metadata": {
        "id": "HhQiLVM5wM9b"
      }
    },
    {
      "cell_type": "code",
      "source": [
        "total_tokens_zoom=zoom_df['Feature Description'].apply(word_tokenize).sum()"
      ],
      "metadata": {
        "id": "4KgBrgNTwOxd"
      },
      "execution_count": 65,
      "outputs": []
    },
    {
      "cell_type": "code",
      "source": [
        "total_tokens_zoom"
      ],
      "metadata": {
        "colab": {
          "base_uri": "https://localhost:8080/"
        },
        "id": "_ONW3R8rwhdE",
        "outputId": "ec5e7ff6-d066-4190-d44c-de987401c7ba"
      },
      "execution_count": 66,
      "outputs": [
        {
          "output_type": "execute_result",
          "data": {
            "text/plain": [
              "12156"
            ]
          },
          "metadata": {},
          "execution_count": 66
        }
      ]
    },
    {
      "cell_type": "markdown",
      "source": [
        "<h1>Total number of tokens in Feature Description column is 12156</h1>\n",
        "\n",
        "\n",
        "\n"
      ],
      "metadata": {
        "id": "wQ2hoqOiyEKh"
      }
    },
    {
      "cell_type": "code",
      "source": [
        "total_tokens_zoom_feature_title=zoom_df['Feature Title'].apply(word_tokenize).sum()"
      ],
      "metadata": {
        "id": "j_Z8ckE0yAKh"
      },
      "execution_count": 67,
      "outputs": []
    },
    {
      "cell_type": "code",
      "source": [
        "total_tokens_zoom_feature_title"
      ],
      "metadata": {
        "colab": {
          "base_uri": "https://localhost:8080/"
        },
        "id": "FEDc-6uuyNTo",
        "outputId": "2f4cf951-f189-4cf9-f612-1160ca400649"
      },
      "execution_count": 68,
      "outputs": [
        {
          "output_type": "execute_result",
          "data": {
            "text/plain": [
              "1809"
            ]
          },
          "metadata": {},
          "execution_count": 68
        }
      ]
    },
    {
      "cell_type": "markdown",
      "source": [
        "<h1>Total number of tokens in Feature Title column is 1809</h1>\n"
      ],
      "metadata": {
        "id": "sbXWWsr5yR47"
      }
    },
    {
      "cell_type": "code",
      "source": [
        "avg_sentences_per_feature_zoom=zoom_df['Feature Description'].apply(sent_tokenize).sum()/zoom_df.shape[0]"
      ],
      "metadata": {
        "id": "PuKv4-MDyONb"
      },
      "execution_count": 69,
      "outputs": []
    },
    {
      "cell_type": "code",
      "source": [
        "avg_sentences_per_feature_zoom"
      ],
      "metadata": {
        "colab": {
          "base_uri": "https://localhost:8080/"
        },
        "id": "3ciVrZguynaU",
        "outputId": "814385c0-5154-4d4a-bb1b-8a8398fb9e8a"
      },
      "execution_count": 70,
      "outputs": [
        {
          "output_type": "execute_result",
          "data": {
            "text/plain": [
              "2.0676156583629894"
            ]
          },
          "metadata": {},
          "execution_count": 70
        }
      ]
    },
    {
      "cell_type": "markdown",
      "source": [
        "<h1>Avg number of sentences per feature are 2.06761</h1>"
      ],
      "metadata": {
        "id": "jFgi0QHOywph"
      }
    },
    {
      "cell_type": "code",
      "source": [
        "avg_sentence_len_per_feature_zoom=zoom_df['Feature Description'].apply(avg_sentence_length).sum()/zoom_df.shape[0]"
      ],
      "metadata": {
        "id": "iZRZdv8Eyocp"
      },
      "execution_count": 71,
      "outputs": []
    },
    {
      "cell_type": "code",
      "source": [
        "avg_sentence_len_per_feature_zoom"
      ],
      "metadata": {
        "colab": {
          "base_uri": "https://localhost:8080/"
        },
        "id": "0-gxNOwCy9QS",
        "outputId": "27e3d9da-8ef7-44d5-a0fc-8571f5270dda"
      },
      "execution_count": 72,
      "outputs": [
        {
          "output_type": "execute_result",
          "data": {
            "text/plain": [
              "21.822479240806643"
            ]
          },
          "metadata": {},
          "execution_count": 72
        }
      ]
    },
    {
      "cell_type": "markdown",
      "source": [
        "<h1>Avg sentence length per feature is 21.82 (i.e 22 words per sentence)</h1>"
      ],
      "metadata": {
        "id": "NzMWHy_OzC1R"
      }
    },
    {
      "cell_type": "markdown",
      "source": [
        "<h1>Exploratory Analysis on Webex Dataset</h1>"
      ],
      "metadata": {
        "id": "kp6jShuFzLkh"
      }
    },
    {
      "cell_type": "code",
      "source": [
        "webex_path='/content/drive/MyDrive/dataset/webex-dataset.csv'"
      ],
      "metadata": {
        "id": "5wJghB2gzQtK"
      },
      "execution_count": 73,
      "outputs": []
    },
    {
      "cell_type": "code",
      "source": [
        "webex_df=pd.read_csv(webex_path)"
      ],
      "metadata": {
        "id": "hg0P_V5qzUjK"
      },
      "execution_count": 74,
      "outputs": []
    },
    {
      "cell_type": "code",
      "source": [
        "df3=webex_df.copy()"
      ],
      "metadata": {
        "id": "JnLBJcLqzWv2"
      },
      "execution_count": 75,
      "outputs": []
    },
    {
      "cell_type": "code",
      "source": [
        "print(df3.shape[0])"
      ],
      "metadata": {
        "colab": {
          "base_uri": "https://localhost:8080/"
        },
        "id": "bVamWmA7zeXT",
        "outputId": "a540c458-bc9e-4075-e669-fb223c37faca"
      },
      "execution_count": 77,
      "outputs": [
        {
          "output_type": "stream",
          "name": "stdout",
          "text": [
            "168\n"
          ]
        }
      ]
    },
    {
      "cell_type": "markdown",
      "source": [
        "<h1>Total number of features in Webex are 168</h1>"
      ],
      "metadata": {
        "id": "9_iUWnGwziEn"
      }
    },
    {
      "cell_type": "code",
      "source": [
        "sns.set_style('whitegrid')\n",
        "plt.figure(figsize=(12,6))\n",
        "plot=sns.histplot(data=df3, x='release_month',color=(0.4, 0.6, 1, 0.5),bins=12,alpha=0.6)\n",
        "plt.xticks(range(1, 13), [pd.Timestamp(2022, i, 1).strftime('%b') for i in range(1, 13)])\n",
        "plot.set(xlabel=\"Release Month\", ylabel=\"Number of features\",title=\"total releases per month\")\n",
        "plt.xlim(1,12)\n",
        "plt.show()"
      ],
      "metadata": {
        "colab": {
          "base_uri": "https://localhost:8080/",
          "height": 564
        },
        "id": "d74hFnZkzaMz",
        "outputId": "7b10ed5f-36b5-4baa-dc70-92bfe2fe9cc0"
      },
      "execution_count": 76,
      "outputs": [
        {
          "output_type": "display_data",
          "data": {
            "text/plain": [
              "<Figure size 1200x600 with 1 Axes>"
            ],
            "image/png": "[encoded data removed]"
          },
          "metadata": {}
        }
      ]
    },
    {
      "cell_type": "code",
      "source": [
        "print(df3.shape[0]/12)"
      ],
      "metadata": {
        "colab": {
          "base_uri": "https://localhost:8080/"
        },
        "id": "oy9QcmuqzccH",
        "outputId": "07587101-7029-4067-da9b-bd0425e124f2"
      },
      "execution_count": 78,
      "outputs": [
        {
          "output_type": "stream",
          "name": "stdout",
          "text": [
            "14.0\n"
          ]
        }
      ]
    },
    {
      "cell_type": "markdown",
      "source": [
        "<h1>Avg number of features released per month are 14</h1>"
      ],
      "metadata": {
        "id": "oALR4nHYz8_c"
      }
    },
    {
      "cell_type": "code",
      "source": [
        "grouped_df = df3.groupby('release_month')['feature_title'].count()\n",
        "\n",
        "min_features = grouped_df.min()\n",
        "max_features = grouped_df.max()\n",
        "\n",
        "print(f\"Minimum number of features released in a month: {min_features}\")\n",
        "print(f\"Maximum number of features released in a month: {max_features}\")"
      ],
      "metadata": {
        "colab": {
          "base_uri": "https://localhost:8080/"
        },
        "id": "BST33KmH0Cm6",
        "outputId": "591258ec-9cbc-4153-ac7c-719306347866"
      },
      "execution_count": 81,
      "outputs": [
        {
          "output_type": "stream",
          "name": "stdout",
          "text": [
            "Minimum number of features released in a month: 8\n",
            "Maximum number of features released in a month: 20\n"
          ]
        }
      ]
    },
    {
      "cell_type": "markdown",
      "source": [
        "<h1>Minimum number of features released in a month: 8</h1>\n",
        "<h1>Maximum number of features released in a month: 20</h1>"
      ],
      "metadata": {
        "id": "cWePa5Th0QLV"
      }
    },
    {
      "cell_type": "code",
      "source": [
        "total_tokens_webex=df3['feature_discription'].apply(word_tokenize).sum()"
      ],
      "metadata": {
        "id": "cUN88O8R0VA1"
      },
      "execution_count": 82,
      "outputs": []
    },
    {
      "cell_type": "code",
      "source": [
        "total_tokens_webex"
      ],
      "metadata": {
        "colab": {
          "base_uri": "https://localhost:8080/"
        },
        "id": "RclaERz50edR",
        "outputId": "aaaa711d-2793-44d5-958d-69be15e54a99"
      },
      "execution_count": 83,
      "outputs": [
        {
          "output_type": "execute_result",
          "data": {
            "text/plain": [
              "13571"
            ]
          },
          "metadata": {},
          "execution_count": 83
        }
      ]
    },
    {
      "cell_type": "markdown",
      "source": [
        "<h1>Total number of tokens in Feature description in webex are 13571</h1>"
      ],
      "metadata": {
        "id": "TlYZ06Nb0nyC"
      }
    },
    {
      "cell_type": "code",
      "source": [
        "total_tokens_webex_feature_title=df3['feature_title'].apply(word_tokenize).sum()"
      ],
      "metadata": {
        "id": "NfSRdvLg0fgm"
      },
      "execution_count": 84,
      "outputs": []
    },
    {
      "cell_type": "code",
      "source": [
        "total_tokens_webex_feature_title"
      ],
      "metadata": {
        "colab": {
          "base_uri": "https://localhost:8080/"
        },
        "id": "Y1iHbBZ60mLS",
        "outputId": "67778796-9061-4add-f26b-3ea041e80e41"
      },
      "execution_count": 85,
      "outputs": [
        {
          "output_type": "execute_result",
          "data": {
            "text/plain": [
              "1396"
            ]
          },
          "metadata": {},
          "execution_count": 85
        }
      ]
    },
    {
      "cell_type": "markdown",
      "source": [
        "<h1>Total number of tokens in Feature title in webex are 1396</h1>"
      ],
      "metadata": {
        "id": "eZfItEMS0uwo"
      }
    },
    {
      "cell_type": "code",
      "source": [
        "avg_sentences_per_feature_webex=df3['feature_discription'].apply(sent_tokenize).sum()/df3.shape[0]"
      ],
      "metadata": {
        "id": "1RsIfJWV0z7N"
      },
      "execution_count": 87,
      "outputs": []
    },
    {
      "cell_type": "code",
      "source": [
        "avg_sentences_per_feature_webex"
      ],
      "metadata": {
        "colab": {
          "base_uri": "https://localhost:8080/"
        },
        "id": "VUOLoOw006-F",
        "outputId": "e6b88122-faed-4566-d778-294ddfc21cc8"
      },
      "execution_count": 88,
      "outputs": [
        {
          "output_type": "execute_result",
          "data": {
            "text/plain": [
              "4.125"
            ]
          },
          "metadata": {},
          "execution_count": 88
        }
      ]
    },
    {
      "cell_type": "markdown",
      "source": [
        "<h1>Avg number of sentences per feature are 4.125</h1>"
      ],
      "metadata": {
        "id": "kVhresId1BXM"
      }
    },
    {
      "cell_type": "code",
      "source": [
        "avg_sentence_len_per_feature_webex=df3['feature_discription'].apply(avg_sentence_length).sum()/df3.shape[0]"
      ],
      "metadata": {
        "id": "Tqc90lUM09Wj"
      },
      "execution_count": 89,
      "outputs": []
    },
    {
      "cell_type": "code",
      "source": [
        "avg_sentence_len_per_feature_webex"
      ],
      "metadata": {
        "colab": {
          "base_uri": "https://localhost:8080/"
        },
        "id": "pTIhxVuU1R-z",
        "outputId": "0454166e-3b27-42a7-b3fc-fcffe3a253d0"
      },
      "execution_count": 90,
      "outputs": [
        {
          "output_type": "execute_result",
          "data": {
            "text/plain": [
              "21.12501026051446"
            ]
          },
          "metadata": {},
          "execution_count": 90
        }
      ]
    },
    {
      "cell_type": "markdown",
      "source": [
        "<h1>Avg sentence length per feature is 21.12 (i.e 21 words per sentence)</h1>"
      ],
      "metadata": {
        "id": "povVQg7y1cFf"
      }
    }
  ]
}